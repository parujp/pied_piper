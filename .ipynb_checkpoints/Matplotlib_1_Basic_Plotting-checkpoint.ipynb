{
 "cells": [
  {
   "cell_type": "markdown",
   "metadata": {},
   "source": [
    "## BASIC PLOTTING WITH MATPLOTLIB\n",
    "\n",
    "![architecture](mpl_arch.png)"
   ]
  },
  {
   "cell_type": "markdown",
   "metadata": {},
   "source": [
    "More details: http://www.aosabook.org/en/matplotlib.html\n",
    "10 simple rules for better figures: https://journals.plos.org/ploscompbiol/article?id=10.1371/journal.pcbi.1003833#s11"
   ]
  },
  {
   "cell_type": "code",
   "execution_count": 1,
   "metadata": {
    "ExecuteTime": {
     "end_time": "2018-11-11T05:47:27.796744Z",
     "start_time": "2018-11-11T05:47:27.419983Z"
    },
    "collapsed": true
   },
   "outputs": [],
   "source": [
    "%matplotlib notebook #interactive"
   ]
  },
  {
   "cell_type": "code",
   "execution_count": 2,
   "metadata": {
    "ExecuteTime": {
     "end_time": "2018-11-11T05:47:58.643522Z",
     "start_time": "2018-11-11T05:47:58.636137Z"
    },
    "collapsed": false
   },
   "outputs": [
    {
     "data": {
      "text/plain": [
       "'nbAgg'"
      ]
     },
     "execution_count": 2,
     "metadata": {},
     "output_type": "execute_result"
    }
   ],
   "source": [
    "import matplotlib as mpl\n",
    "mpl.get_backend()"
   ]
  },
  {
   "cell_type": "code",
   "execution_count": 8,
   "metadata": {
    "ExecuteTime": {
     "end_time": "2018-11-11T05:51:33.895287Z",
     "start_time": "2018-11-11T05:51:33.888048Z"
    },
    "collapsed": true
   },
   "outputs": [],
   "source": [
    "import matplotlib.pyplot as plt\n",
    "plt.plot?"
   ]
  },
  {
   "cell_type": "code",
   "execution_count": 9,
   "metadata": {
    "ExecuteTime": {
     "end_time": "2018-11-11T05:51:35.376897Z",
     "start_time": "2018-11-11T05:51:35.229586Z"
    },
    "collapsed": false
   },
   "outputs": [
    {
     "data": {
      "text/plain": [
       "[<matplotlib.lines.Line2D at 0x112961128>]"
      ]
     },
     "execution_count": 9,
     "metadata": {},
     "output_type": "execute_result"
    },
    {
     "data": {
      "image/png": "[encoded data removed]",
      "text/plain": [
       "<Figure size 432x288 with 1 Axes>"
      ]
     },
     "metadata": {},
     "output_type": "display_data"
    }
   ],
   "source": [
    "plt.plot(3,2)"
   ]
  },
  {
   "cell_type": "code",
   "execution_count": 6,
   "metadata": {
    "ExecuteTime": {
     "end_time": "2018-11-11T05:51:17.439920Z",
     "start_time": "2018-11-11T05:51:17.432188Z"
    },
    "collapsed": true
   },
   "outputs": [],
   "source": [
    "%matplotlib inline #not interactive"
   ]
  },
  {
   "cell_type": "code",
   "execution_count": 7,
   "metadata": {
    "ExecuteTime": {
     "end_time": "2018-11-11T05:51:27.559231Z",
     "start_time": "2018-11-11T05:51:27.393836Z"
    },
    "collapsed": false
   },
   "outputs": [
    {
     "data": {
      "text/plain": [
       "[<matplotlib.lines.Line2D at 0x1139e0a58>]"
      ]
     },
     "execution_count": 7,
     "metadata": {},
     "output_type": "execute_result"
    },
    {
     "data": {
      "image/png": "[encoded data removed]",
      "text/plain": [
       "<Figure size 432x288 with 1 Axes>"
      ]
     },
     "metadata": {},
     "output_type": "display_data"
    }
   ],
   "source": [
    "plt.plot(3,2,'.')"
   ]
  },
  {
   "cell_type": "markdown",
   "metadata": {},
   "source": [
    "- This is approach 1 using scripting layer\n",
    "we've just called one function on a module named plot. So what's going on? You see, the pie plot scripting interface is managing a lot of objects for you. It keeps track of the latest figure, of sub plots and of the axis objects. Moreover, it actually hides some of these behind methods of its own. So, the pY plot module itself has a function which is called plot. But it redirects calls to this function to the current axis object. \n",
    "- Approach 2: vebose- matplotlib object API. But I think it's more accurate to think of it as directly interfacing with the artist layer instead. "
   ]
  },
  {
   "cell_type": "code",
   "execution_count": 10,
   "metadata": {
    "ExecuteTime": {
     "end_time": "2018-11-11T06:04:34.251856Z",
     "start_time": "2018-11-11T06:04:34.123283Z"
    },
    "collapsed": true
   },
   "outputs": [],
   "source": [
    "from matplotlib.backends.backend_agg import FigureCanvasAgg\n",
    "from matplotlib.figure import Figure\n",
    "\n",
    "#create new figure\n",
    "fig = Figure()\n",
    "#associate with backend\n",
    "canvas = FigureCanvasAgg(fig)\n",
    "# add a subplot; 111 means we want just one plot\n",
    "ax = fig.add_subplot(111)\n",
    "#return value for the subplot is the axes object, which contains method for plotting\n",
    "ax.plot(3,2,'.')\n",
    "# The backend used for jupyter notebook cant render directly, so we save the fing to png \n",
    "canvas.print_png('mpl_test.png')\n",
    "# we do a html cell magic and see the rendered image"
   ]
  },
  {
   "cell_type": "code",
   "execution_count": 11,
   "metadata": {
    "ExecuteTime": {
     "end_time": "2018-11-11T06:05:11.358497Z",
     "start_time": "2018-11-11T06:05:11.349066Z"
    },
    "collapsed": false
   },
   "outputs": [
    {
     "data": {
      "text/html": [
       "<img src='mpl_test.png'/>"
      ],
      "text/plain": [
       "<IPython.core.display.HTML object>"
      ]
     },
     "metadata": {},
     "output_type": "display_data"
    }
   ],
   "source": [
    "%%html\n",
    "<img src='mpl_test.png'/>"
   ]
  },
  {
   "cell_type": "code",
   "execution_count": 12,
   "metadata": {
    "ExecuteTime": {
     "end_time": "2018-11-11T06:08:07.003983Z",
     "start_time": "2018-11-11T06:08:06.862740Z"
    },
    "collapsed": false
   },
   "outputs": [
    {
     "data": {
      "text/plain": [
       "[0, 6, 0, 10]"
      ]
     },
     "execution_count": 12,
     "metadata": {},
     "output_type": "execute_result"
    },
    {
     "data": {
      "image/png": "[encoded data removed]",
      "text/plain": [
       "<Figure size 432x288 with 1 Axes>"
      ]
     },
     "metadata": {},
     "output_type": "display_data"
    }
   ],
   "source": [
    "# make a plot, grab the axes, and set the x and y limits. \n",
    "plt.figure()\n",
    "plt.plot(3,2,'o')\n",
    "ax = plt.gca() #get current axes\n",
    "ax.axis([0,6,0,10]) #[min-x,max-x,min-y,max-y]"
   ]
  },
  {
   "cell_type": "code",
   "execution_count": 13,
   "metadata": {
    "ExecuteTime": {
     "end_time": "2018-11-11T06:09:58.865739Z",
     "start_time": "2018-11-11T06:09:58.728653Z"
    },
    "collapsed": false
   },
   "outputs": [
    {
     "data": {
      "text/plain": [
       "[<matplotlib.lines.Line2D at 0x115e72e48>]"
      ]
     },
     "execution_count": 13,
     "metadata": {},
     "output_type": "execute_result"
    },
    {
     "data": {
      "image/png": "[encoded data removed]",
      "text/plain": [
       "<Figure size 432x288 with 1 Axes>"
      ]
     },
     "metadata": {},
     "output_type": "display_data"
    }
   ],
   "source": [
    "plt.figure()\n",
    "plt.plot(1.5,1.5,'o')\n",
    "plt.plot(2,2,'o')\n",
    "plt.plot(2.5,2.5,'o')"
   ]
  },
  {
   "cell_type": "code",
   "execution_count": 14,
   "metadata": {
    "ExecuteTime": {
     "end_time": "2018-11-11T06:11:30.213776Z",
     "start_time": "2018-11-11T06:11:30.059706Z"
    },
    "collapsed": false
   },
   "outputs": [
    {
     "data": {
      "text/plain": [
       "[<matplotlib.spines.Spine at 0x115e7cc88>,\n",
       " <matplotlib.spines.Spine at 0x115e7cc18>,\n",
       " <matplotlib.spines.Spine at 0x115d72c88>,\n",
       " <matplotlib.spines.Spine at 0x115de4da0>,\n",
       " <matplotlib.axis.XAxis at 0x115de4eb8>,\n",
       " <matplotlib.axis.YAxis at 0x115dc8518>,\n",
       " Text(0.5,1,''),\n",
       " Text(0,1,''),\n",
       " Text(1,1,''),\n",
       " <matplotlib.patches.Rectangle at 0x115e015c0>]"
      ]
     },
     "execution_count": 14,
     "metadata": {},
     "output_type": "execute_result"
    },
    {
     "data": {
      "image/png": "[encoded data removed]",
      "text/plain": [
       "<Figure size 432x288 with 1 Axes>"
      ]
     },
     "metadata": {},
     "output_type": "display_data"
    }
   ],
   "source": [
    "#get child objects of axes\n",
    "ax=plt.gca()\n",
    "ax.get_children()"
   ]
  },
  {
   "cell_type": "markdown",
   "metadata": {},
   "source": [
    "Here we can see that there's actually three line 2D objects contained in this axis. These are our data points. The number of spines, which are actual renderings of the borders of the frame, including tic markers, two axis objects, and a bunch of text, which are the labels for the chart. There's even a rectangle, which is the background for the axis. \n"
   ]
  },
  {
   "cell_type": "code",
   "execution_count": null,
   "metadata": {
    "collapsed": true
   },
   "outputs": [],
   "source": []
  }
 ],
 "metadata": {
  "kernelspec": {
   "display_name": "Python 3",
   "language": "python",
   "name": "python3"
  },
  "language_info": {
   "codemirror_mode": {
    "name": "ipython",
    "version": 3
   },
   "file_extension": ".py",
   "mimetype": "text/x-python",
   "name": "python",
   "nbconvert_exporter": "python",
   "pygments_lexer": "ipython3",
   "version": "3.6.6"
  },
  "varInspector": {
   "cols": {
    "lenName": 16,
    "lenType": 16,
    "lenVar": 40
   },
   "kernels_config": {
    "python": {
     "delete_cmd_postfix": "",
     "delete_cmd_prefix": "del ",
     "library": "var_list.py",
     "varRefreshCmd": "print(var_dic_list())"
    },
    "r": {
     "delete_cmd_postfix": ") ",
     "delete_cmd_prefix": "rm(",
     "library": "var_list.r",
     "varRefreshCmd": "cat(var_dic_list()) "
    }
   },
   "types_to_exclude": [
    "module",
    "function",
    "builtin_function_or_method",
    "instance",
    "_Feature"
   ],
   "window_display": false
  }
 },
 "nbformat": 4,
 "nbformat_minor": 2
}
