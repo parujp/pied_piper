{
 "cells": [
  {
   "cell_type": "code",
   "execution_count": 34,
   "metadata": {
    "ExecuteTime": {
     "end_time": "2018-11-10T10:51:57.827017Z",
     "start_time": "2018-11-10T10:51:57.822405Z"
    },
    "collapsed": true
   },
   "outputs": [],
   "source": [
    "#Imports\n",
    "import pandas as pd\n",
    "import numpy as np"
   ]
  },
  {
   "cell_type": "code",
   "execution_count": 3,
   "metadata": {
    "ExecuteTime": {
     "end_time": "2018-11-10T10:20:50.765076Z",
     "start_time": "2018-11-10T10:20:50.290692Z"
    },
    "collapsed": true
   },
   "outputs": [],
   "source": [
    "# Read data from csv file\n",
    "dfa = pd.read_csv('http://stat-computing.org/dataexpo/2009/airports.csv', delimiter=',', index_col='iata')"
   ]
  },
  {
   "cell_type": "code",
   "execution_count": 4,
   "metadata": {
    "ExecuteTime": {
     "end_time": "2018-11-10T10:20:51.627994Z",
     "start_time": "2018-11-10T10:20:51.608296Z"
    },
    "collapsed": false
   },
   "outputs": [
    {
     "data": {
      "text/html": [
       "<div>\n",
       "<style scoped>\n",
       "    .dataframe tbody tr th:only-of-type {\n",
       "        vertical-align: middle;\n",
       "    }\n",
       "\n",
       "    .dataframe tbody tr th {\n",
       "        vertical-align: top;\n",
       "    }\n",
       "\n",
       "    .dataframe thead th {\n",
       "        text-align: right;\n",
       "    }\n",
       "</style>\n",
       "<table border=\"1\" class=\"dataframe\">\n",
       "  <thead>\n",
       "    <tr style=\"text-align: right;\">\n",
       "      <th></th>\n",
       "      <th>airport</th>\n",
       "      <th>city</th>\n",
       "      <th>state</th>\n",
       "    </tr>\n",
       "    <tr>\n",
       "      <th>iata</th>\n",
       "      <th></th>\n",
       "      <th></th>\n",
       "      <th></th>\n",
       "    </tr>\n",
       "  </thead>\n",
       "  <tbody>\n",
       "    <tr>\n",
       "      <th>00M</th>\n",
       "      <td>Thigpen</td>\n",
       "      <td>Bay Springs</td>\n",
       "      <td>MS</td>\n",
       "    </tr>\n",
       "    <tr>\n",
       "      <th>00R</th>\n",
       "      <td>Livingston Municipal</td>\n",
       "      <td>Livingston</td>\n",
       "      <td>TX</td>\n",
       "    </tr>\n",
       "    <tr>\n",
       "      <th>00V</th>\n",
       "      <td>Meadow Lake</td>\n",
       "      <td>Colorado Springs</td>\n",
       "      <td>CO</td>\n",
       "    </tr>\n",
       "    <tr>\n",
       "      <th>01G</th>\n",
       "      <td>Perry-Warsaw</td>\n",
       "      <td>Perry</td>\n",
       "      <td>NY</td>\n",
       "    </tr>\n",
       "    <tr>\n",
       "      <th>01J</th>\n",
       "      <td>Hilliard Airpark</td>\n",
       "      <td>Hilliard</td>\n",
       "      <td>FL</td>\n",
       "    </tr>\n",
       "  </tbody>\n",
       "</table>\n",
       "</div>"
      ],
      "text/plain": [
       "                   airport              city state\n",
       "iata                                              \n",
       "00M               Thigpen        Bay Springs    MS\n",
       "00R   Livingston Municipal        Livingston    TX\n",
       "00V            Meadow Lake  Colorado Springs    CO\n",
       "01G           Perry-Warsaw             Perry    NY\n",
       "01J       Hilliard Airpark          Hilliard    FL"
      ]
     },
     "execution_count": 4,
     "metadata": {},
     "output_type": "execute_result"
    }
   ],
   "source": [
    "# show head of specified columns\n",
    "dfa[['airport','city','state']].head()"
   ]
  },
  {
   "cell_type": "code",
   "execution_count": 5,
   "metadata": {
    "ExecuteTime": {
     "end_time": "2018-11-10T10:20:52.408627Z",
     "start_time": "2018-11-10T10:20:52.394046Z"
    },
    "collapsed": false
   },
   "outputs": [
    {
     "data": {
      "text/html": [
       "<div>\n",
       "<style scoped>\n",
       "    .dataframe tbody tr th:only-of-type {\n",
       "        vertical-align: middle;\n",
       "    }\n",
       "\n",
       "    .dataframe tbody tr th {\n",
       "        vertical-align: top;\n",
       "    }\n",
       "\n",
       "    .dataframe thead th {\n",
       "        text-align: right;\n",
       "    }\n",
       "</style>\n",
       "<table border=\"1\" class=\"dataframe\">\n",
       "  <thead>\n",
       "    <tr style=\"text-align: right;\">\n",
       "      <th></th>\n",
       "      <th>airport</th>\n",
       "      <th>lat</th>\n",
       "      <th>long</th>\n",
       "    </tr>\n",
       "    <tr>\n",
       "      <th>iata</th>\n",
       "      <th></th>\n",
       "      <th></th>\n",
       "      <th></th>\n",
       "    </tr>\n",
       "  </thead>\n",
       "  <tbody>\n",
       "    <tr>\n",
       "      <th>ZER</th>\n",
       "      <td>Schuylkill Cty/Joe Zerbey</td>\n",
       "      <td>40.706449</td>\n",
       "      <td>-76.373147</td>\n",
       "    </tr>\n",
       "    <tr>\n",
       "      <th>ZPH</th>\n",
       "      <td>Zephyrhills Municipal</td>\n",
       "      <td>28.228065</td>\n",
       "      <td>-82.155916</td>\n",
       "    </tr>\n",
       "    <tr>\n",
       "      <th>ZUN</th>\n",
       "      <td>Black Rock</td>\n",
       "      <td>35.083227</td>\n",
       "      <td>-108.791777</td>\n",
       "    </tr>\n",
       "    <tr>\n",
       "      <th>ZZV</th>\n",
       "      <td>Zanesville Municipal</td>\n",
       "      <td>39.944458</td>\n",
       "      <td>-81.892105</td>\n",
       "    </tr>\n",
       "  </tbody>\n",
       "</table>\n",
       "</div>"
      ],
      "text/plain": [
       "                        airport        lat        long\n",
       "iata                                                  \n",
       "ZER   Schuylkill Cty/Joe Zerbey  40.706449  -76.373147\n",
       "ZPH       Zephyrhills Municipal  28.228065  -82.155916\n",
       "ZUN                  Black Rock  35.083227 -108.791777\n",
       "ZZV        Zanesville Municipal  39.944458  -81.892105"
      ]
     },
     "execution_count": 5,
     "metadata": {},
     "output_type": "execute_result"
    }
   ],
   "source": [
    "# extract last four rows for 3 cols\n",
    "dfa[['airport', 'lat', 'long']].tail(4)"
   ]
  },
  {
   "cell_type": "code",
   "execution_count": 6,
   "metadata": {
    "ExecuteTime": {
     "end_time": "2018-11-10T10:20:53.117343Z",
     "start_time": "2018-11-10T10:20:53.108887Z"
    },
    "collapsed": false
   },
   "outputs": [
    {
     "data": {
      "text/plain": [
       "airport     object\n",
       "city        object\n",
       "state       object\n",
       "country     object\n",
       "lat        float64\n",
       "long       float64\n",
       "dtype: object"
      ]
     },
     "execution_count": 6,
     "metadata": {},
     "output_type": "execute_result"
    }
   ],
   "source": [
    "# Display the data types of each column\n",
    "dfa.dtypes"
   ]
  },
  {
   "cell_type": "code",
   "execution_count": 7,
   "metadata": {
    "ExecuteTime": {
     "end_time": "2018-11-10T10:20:53.791057Z",
     "start_time": "2018-11-10T10:20:53.766017Z"
    },
    "collapsed": false
   },
   "outputs": [
    {
     "data": {
      "text/html": [
       "<div>\n",
       "<style scoped>\n",
       "    .dataframe tbody tr th:only-of-type {\n",
       "        vertical-align: middle;\n",
       "    }\n",
       "\n",
       "    .dataframe tbody tr th {\n",
       "        vertical-align: top;\n",
       "    }\n",
       "\n",
       "    .dataframe thead th {\n",
       "        text-align: right;\n",
       "    }\n",
       "</style>\n",
       "<table border=\"1\" class=\"dataframe\">\n",
       "  <thead>\n",
       "    <tr style=\"text-align: right;\">\n",
       "      <th></th>\n",
       "      <th>lat</th>\n",
       "      <th>long</th>\n",
       "    </tr>\n",
       "  </thead>\n",
       "  <tbody>\n",
       "    <tr>\n",
       "      <th>count</th>\n",
       "      <td>3376.000000</td>\n",
       "      <td>3376.000000</td>\n",
       "    </tr>\n",
       "    <tr>\n",
       "      <th>mean</th>\n",
       "      <td>40.036524</td>\n",
       "      <td>-98.621205</td>\n",
       "    </tr>\n",
       "    <tr>\n",
       "      <th>std</th>\n",
       "      <td>8.329559</td>\n",
       "      <td>22.869458</td>\n",
       "    </tr>\n",
       "    <tr>\n",
       "      <th>min</th>\n",
       "      <td>7.367222</td>\n",
       "      <td>-176.646031</td>\n",
       "    </tr>\n",
       "    <tr>\n",
       "      <th>25%</th>\n",
       "      <td>34.688427</td>\n",
       "      <td>-108.761121</td>\n",
       "    </tr>\n",
       "    <tr>\n",
       "      <th>50%</th>\n",
       "      <td>39.434449</td>\n",
       "      <td>-93.599425</td>\n",
       "    </tr>\n",
       "    <tr>\n",
       "      <th>75%</th>\n",
       "      <td>43.372612</td>\n",
       "      <td>-84.137519</td>\n",
       "    </tr>\n",
       "    <tr>\n",
       "      <th>max</th>\n",
       "      <td>71.285448</td>\n",
       "      <td>145.621384</td>\n",
       "    </tr>\n",
       "  </tbody>\n",
       "</table>\n",
       "</div>"
      ],
      "text/plain": [
       "               lat         long\n",
       "count  3376.000000  3376.000000\n",
       "mean     40.036524   -98.621205\n",
       "std       8.329559    22.869458\n",
       "min       7.367222  -176.646031\n",
       "25%      34.688427  -108.761121\n",
       "50%      39.434449   -93.599425\n",
       "75%      43.372612   -84.137519\n",
       "max      71.285448   145.621384"
      ]
     },
     "execution_count": 7,
     "metadata": {},
     "output_type": "execute_result"
    }
   ],
   "source": [
    "# Display a summary of the numerical information in the DataFrame\n",
    "dfa.describe()"
   ]
  },
  {
   "cell_type": "markdown",
   "metadata": {},
   "source": [
    "## SLICING"
   ]
  },
  {
   "cell_type": "markdown",
   "metadata": {
    "collapsed": true
   },
   "source": [
    "Since this new DataFrame was created with a labelled row index, we can use row labels to slice rows from the DataFrame. The following code cells demonstrate basic slicing and indexing of this DataFrame by using both explicit indices (row and column labels) and implicit indices (row and column index values)."
   ]
  },
  {
   "cell_type": "code",
   "execution_count": 8,
   "metadata": {
    "ExecuteTime": {
     "end_time": "2018-11-10T10:20:55.602764Z",
     "start_time": "2018-11-10T10:20:55.585703Z"
    },
    "collapsed": false
   },
   "outputs": [
    {
     "data": {
      "text/html": [
       "<div>\n",
       "<style scoped>\n",
       "    .dataframe tbody tr th:only-of-type {\n",
       "        vertical-align: middle;\n",
       "    }\n",
       "\n",
       "    .dataframe tbody tr th {\n",
       "        vertical-align: top;\n",
       "    }\n",
       "\n",
       "    .dataframe thead th {\n",
       "        text-align: right;\n",
       "    }\n",
       "</style>\n",
       "<table border=\"1\" class=\"dataframe\">\n",
       "  <thead>\n",
       "    <tr style=\"text-align: right;\">\n",
       "      <th></th>\n",
       "      <th>airport</th>\n",
       "      <th>city</th>\n",
       "      <th>state</th>\n",
       "      <th>country</th>\n",
       "      <th>lat</th>\n",
       "      <th>long</th>\n",
       "    </tr>\n",
       "    <tr>\n",
       "      <th>iata</th>\n",
       "      <th></th>\n",
       "      <th></th>\n",
       "      <th></th>\n",
       "      <th></th>\n",
       "      <th></th>\n",
       "      <th></th>\n",
       "    </tr>\n",
       "  </thead>\n",
       "  <tbody>\n",
       "    <tr>\n",
       "      <th>11J</th>\n",
       "      <td>Early County</td>\n",
       "      <td>Blakely</td>\n",
       "      <td>GA</td>\n",
       "      <td>USA</td>\n",
       "      <td>31.396986</td>\n",
       "      <td>-84.895257</td>\n",
       "    </tr>\n",
       "    <tr>\n",
       "      <th>11R</th>\n",
       "      <td>Brenham Municipal</td>\n",
       "      <td>Brenham</td>\n",
       "      <td>TX</td>\n",
       "      <td>USA</td>\n",
       "      <td>30.219000</td>\n",
       "      <td>-96.374278</td>\n",
       "    </tr>\n",
       "    <tr>\n",
       "      <th>12C</th>\n",
       "      <td>Rochelle Municipal</td>\n",
       "      <td>Rochelle</td>\n",
       "      <td>IL</td>\n",
       "      <td>USA</td>\n",
       "      <td>41.893001</td>\n",
       "      <td>-89.078290</td>\n",
       "    </tr>\n",
       "  </tbody>\n",
       "</table>\n",
       "</div>"
      ],
      "text/plain": [
       "                 airport      city state country        lat       long\n",
       "iata                                                                  \n",
       "11J         Early County   Blakely    GA     USA  31.396986 -84.895257\n",
       "11R    Brenham Municipal   Brenham    TX     USA  30.219000 -96.374278\n",
       "12C   Rochelle Municipal  Rochelle    IL     USA  41.893001 -89.078290"
      ]
     },
     "execution_count": 8,
     "metadata": {},
     "output_type": "execute_result"
    }
   ],
   "source": [
    "# Slice rows by using the indicated label from the index column (EXPLICIT)\n",
    "\n",
    "dfa.loc[['11J','11R','12C']]"
   ]
  },
  {
   "cell_type": "code",
   "execution_count": 10,
   "metadata": {
    "ExecuteTime": {
     "end_time": "2018-11-10T10:24:42.033964Z",
     "start_time": "2018-11-10T10:24:42.018934Z"
    },
    "collapsed": false
   },
   "outputs": [
    {
     "data": {
      "text/html": [
       "<div>\n",
       "<style scoped>\n",
       "    .dataframe tbody tr th:only-of-type {\n",
       "        vertical-align: middle;\n",
       "    }\n",
       "\n",
       "    .dataframe tbody tr th {\n",
       "        vertical-align: top;\n",
       "    }\n",
       "\n",
       "    .dataframe thead th {\n",
       "        text-align: right;\n",
       "    }\n",
       "</style>\n",
       "<table border=\"1\" class=\"dataframe\">\n",
       "  <thead>\n",
       "    <tr style=\"text-align: right;\">\n",
       "      <th></th>\n",
       "      <th>airport</th>\n",
       "      <th>city</th>\n",
       "      <th>state</th>\n",
       "    </tr>\n",
       "    <tr>\n",
       "      <th>iata</th>\n",
       "      <th></th>\n",
       "      <th></th>\n",
       "      <th></th>\n",
       "    </tr>\n",
       "  </thead>\n",
       "  <tbody>\n",
       "    <tr>\n",
       "      <th>11J</th>\n",
       "      <td>Early County</td>\n",
       "      <td>Blakely</td>\n",
       "      <td>GA</td>\n",
       "    </tr>\n",
       "    <tr>\n",
       "      <th>11R</th>\n",
       "      <td>Brenham Municipal</td>\n",
       "      <td>Brenham</td>\n",
       "      <td>TX</td>\n",
       "    </tr>\n",
       "  </tbody>\n",
       "</table>\n",
       "</div>"
      ],
      "text/plain": [
       "                airport     city state\n",
       "iata                                  \n",
       "11J        Early County  Blakely    GA\n",
       "11R   Brenham Municipal  Brenham    TX"
      ]
     },
     "execution_count": 10,
     "metadata": {},
     "output_type": "execute_result"
    }
   ],
   "source": [
    "# Slice rows and columns by using explicit row and column labels\n",
    "dfa.loc[['11J','11R'],['airport','city','state']]"
   ]
  },
  {
   "cell_type": "code",
   "execution_count": 9,
   "metadata": {
    "ExecuteTime": {
     "end_time": "2018-11-10T10:23:03.948565Z",
     "start_time": "2018-11-10T10:23:03.934687Z"
    },
    "collapsed": false
   },
   "outputs": [
    {
     "data": {
      "text/html": [
       "<div>\n",
       "<style scoped>\n",
       "    .dataframe tbody tr th:only-of-type {\n",
       "        vertical-align: middle;\n",
       "    }\n",
       "\n",
       "    .dataframe tbody tr th {\n",
       "        vertical-align: top;\n",
       "    }\n",
       "\n",
       "    .dataframe thead th {\n",
       "        text-align: right;\n",
       "    }\n",
       "</style>\n",
       "<table border=\"1\" class=\"dataframe\">\n",
       "  <thead>\n",
       "    <tr style=\"text-align: right;\">\n",
       "      <th></th>\n",
       "      <th>airport</th>\n",
       "      <th>city</th>\n",
       "      <th>state</th>\n",
       "      <th>country</th>\n",
       "      <th>lat</th>\n",
       "      <th>long</th>\n",
       "    </tr>\n",
       "    <tr>\n",
       "      <th>iata</th>\n",
       "      <th></th>\n",
       "      <th></th>\n",
       "      <th></th>\n",
       "      <th></th>\n",
       "      <th></th>\n",
       "      <th></th>\n",
       "    </tr>\n",
       "  </thead>\n",
       "  <tbody>\n",
       "    <tr>\n",
       "      <th>11J</th>\n",
       "      <td>Early County</td>\n",
       "      <td>Blakely</td>\n",
       "      <td>GA</td>\n",
       "      <td>USA</td>\n",
       "      <td>31.396986</td>\n",
       "      <td>-84.895257</td>\n",
       "    </tr>\n",
       "    <tr>\n",
       "      <th>11R</th>\n",
       "      <td>Brenham Municipal</td>\n",
       "      <td>Brenham</td>\n",
       "      <td>TX</td>\n",
       "      <td>USA</td>\n",
       "      <td>30.219000</td>\n",
       "      <td>-96.374278</td>\n",
       "    </tr>\n",
       "    <tr>\n",
       "      <th>12C</th>\n",
       "      <td>Rochelle Municipal</td>\n",
       "      <td>Rochelle</td>\n",
       "      <td>IL</td>\n",
       "      <td>USA</td>\n",
       "      <td>41.893001</td>\n",
       "      <td>-89.078290</td>\n",
       "    </tr>\n",
       "    <tr>\n",
       "      <th>12D</th>\n",
       "      <td>Tower Municipal</td>\n",
       "      <td>Tower</td>\n",
       "      <td>MN</td>\n",
       "      <td>USA</td>\n",
       "      <td>47.818333</td>\n",
       "      <td>-92.291667</td>\n",
       "    </tr>\n",
       "  </tbody>\n",
       "</table>\n",
       "</div>"
      ],
      "text/plain": [
       "                 airport      city state country        lat       long\n",
       "iata                                                                  \n",
       "11J         Early County   Blakely    GA     USA  31.396986 -84.895257\n",
       "11R    Brenham Municipal   Brenham    TX     USA  30.219000 -96.374278\n",
       "12C   Rochelle Municipal  Rochelle    IL     USA  41.893001 -89.078290\n",
       "12D      Tower Municipal     Tower    MN     USA  47.818333 -92.291667"
      ]
     },
     "execution_count": 9,
     "metadata": {},
     "output_type": "execute_result"
    }
   ],
   "source": [
    "# Slice rows by using the row implicit index (IMPLICIT)\n",
    "dfa[99:103]"
   ]
  },
  {
   "cell_type": "code",
   "execution_count": 11,
   "metadata": {
    "ExecuteTime": {
     "end_time": "2018-11-10T10:25:57.775449Z",
     "start_time": "2018-11-10T10:25:57.763882Z"
    },
    "collapsed": false
   },
   "outputs": [
    {
     "data": {
      "text/html": [
       "<div>\n",
       "<style scoped>\n",
       "    .dataframe tbody tr th:only-of-type {\n",
       "        vertical-align: middle;\n",
       "    }\n",
       "\n",
       "    .dataframe tbody tr th {\n",
       "        vertical-align: top;\n",
       "    }\n",
       "\n",
       "    .dataframe thead th {\n",
       "        text-align: right;\n",
       "    }\n",
       "</style>\n",
       "<table border=\"1\" class=\"dataframe\">\n",
       "  <thead>\n",
       "    <tr style=\"text-align: right;\">\n",
       "      <th></th>\n",
       "      <th>airport</th>\n",
       "      <th>city</th>\n",
       "    </tr>\n",
       "    <tr>\n",
       "      <th>iata</th>\n",
       "      <th></th>\n",
       "      <th></th>\n",
       "    </tr>\n",
       "  </thead>\n",
       "  <tbody>\n",
       "    <tr>\n",
       "      <th>11J</th>\n",
       "      <td>Early County</td>\n",
       "      <td>Blakely</td>\n",
       "    </tr>\n",
       "    <tr>\n",
       "      <th>11R</th>\n",
       "      <td>Brenham Municipal</td>\n",
       "      <td>Brenham</td>\n",
       "    </tr>\n",
       "    <tr>\n",
       "      <th>12C</th>\n",
       "      <td>Rochelle Municipal</td>\n",
       "      <td>Rochelle</td>\n",
       "    </tr>\n",
       "    <tr>\n",
       "      <th>12D</th>\n",
       "      <td>Tower Municipal</td>\n",
       "      <td>Tower</td>\n",
       "    </tr>\n",
       "  </tbody>\n",
       "</table>\n",
       "</div>"
      ],
      "text/plain": [
       "                 airport      city\n",
       "iata                              \n",
       "11J         Early County   Blakely\n",
       "11R    Brenham Municipal   Brenham\n",
       "12C   Rochelle Municipal  Rochelle\n",
       "12D      Tower Municipal     Tower"
      ]
     },
     "execution_count": 11,
     "metadata": {},
     "output_type": "execute_result"
    }
   ],
   "source": [
    "# Slice rows and columns by using implicit row and column indices\n",
    "dfa.iloc[99:103,:2]"
   ]
  },
  {
   "cell_type": "markdown",
   "metadata": {},
   "source": [
    "## MASKING"
   ]
  },
  {
   "cell_type": "markdown",
   "metadata": {},
   "source": [
    "- Pandas also support selecting rows based on column values, which is known as masking.\n",
    "- This is performed by specifying tests on columns that result in True or False, and only the True results are returned. \n",
    "- Thus, a row mask is formed, and masked rows are hidden and unmasked rows are selected. \n",
    "- These tests must follow the rules of Boolean logic, but can involve multiple column comparisons that are combined into one final result."
   ]
  },
  {
   "cell_type": "code",
   "execution_count": 14,
   "metadata": {
    "ExecuteTime": {
     "end_time": "2018-11-10T10:29:11.286947Z",
     "start_time": "2018-11-10T10:29:11.273283Z"
    },
    "collapsed": false
   },
   "outputs": [
    {
     "data": {
      "text/html": [
       "<div>\n",
       "<style scoped>\n",
       "    .dataframe tbody tr th:only-of-type {\n",
       "        vertical-align: middle;\n",
       "    }\n",
       "\n",
       "    .dataframe tbody tr th {\n",
       "        vertical-align: top;\n",
       "    }\n",
       "\n",
       "    .dataframe thead th {\n",
       "        text-align: right;\n",
       "    }\n",
       "</style>\n",
       "<table border=\"1\" class=\"dataframe\">\n",
       "  <thead>\n",
       "    <tr style=\"text-align: right;\">\n",
       "      <th></th>\n",
       "      <th>airport</th>\n",
       "      <th>city</th>\n",
       "      <th>state</th>\n",
       "      <th>country</th>\n",
       "      <th>lat</th>\n",
       "      <th>long</th>\n",
       "    </tr>\n",
       "    <tr>\n",
       "      <th>iata</th>\n",
       "      <th></th>\n",
       "      <th></th>\n",
       "      <th></th>\n",
       "      <th></th>\n",
       "      <th></th>\n",
       "      <th></th>\n",
       "    </tr>\n",
       "  </thead>\n",
       "  <tbody>\n",
       "    <tr>\n",
       "      <th>33N</th>\n",
       "      <td>Delaware Airpark</td>\n",
       "      <td>Dover</td>\n",
       "      <td>DE</td>\n",
       "      <td>USA</td>\n",
       "      <td>39.218376</td>\n",
       "      <td>-75.596427</td>\n",
       "    </tr>\n",
       "    <tr>\n",
       "      <th>DOV</th>\n",
       "      <td>Dover Air Force Base</td>\n",
       "      <td>Dover</td>\n",
       "      <td>DE</td>\n",
       "      <td>USA</td>\n",
       "      <td>39.130113</td>\n",
       "      <td>-75.466310</td>\n",
       "    </tr>\n",
       "    <tr>\n",
       "      <th>EVY</th>\n",
       "      <td>Summit Airpark</td>\n",
       "      <td>Middletown</td>\n",
       "      <td>DE</td>\n",
       "      <td>USA</td>\n",
       "      <td>39.520389</td>\n",
       "      <td>-75.720444</td>\n",
       "    </tr>\n",
       "    <tr>\n",
       "      <th>GED</th>\n",
       "      <td>Sussex Cty Arpt</td>\n",
       "      <td>Georgetown</td>\n",
       "      <td>DE</td>\n",
       "      <td>USA</td>\n",
       "      <td>38.689194</td>\n",
       "      <td>-75.358889</td>\n",
       "    </tr>\n",
       "    <tr>\n",
       "      <th>ILG</th>\n",
       "      <td>New Castle County</td>\n",
       "      <td>Wilmington</td>\n",
       "      <td>DE</td>\n",
       "      <td>USA</td>\n",
       "      <td>39.678722</td>\n",
       "      <td>-75.606528</td>\n",
       "    </tr>\n",
       "  </tbody>\n",
       "</table>\n",
       "</div>"
      ],
      "text/plain": [
       "                   airport        city state country        lat       long\n",
       "iata                                                                      \n",
       "33N       Delaware Airpark       Dover    DE     USA  39.218376 -75.596427\n",
       "DOV   Dover Air Force Base       Dover    DE     USA  39.130113 -75.466310\n",
       "EVY         Summit Airpark  Middletown    DE     USA  39.520389 -75.720444\n",
       "GED        Sussex Cty Arpt  Georgetown    DE     USA  38.689194 -75.358889\n",
       "ILG     New Castle County   Wilmington    DE     USA  39.678722 -75.606528"
      ]
     },
     "execution_count": 14,
     "metadata": {},
     "output_type": "execute_result"
    }
   ],
   "source": [
    "dfa[dfa['state'] == 'DE']"
   ]
  },
  {
   "cell_type": "code",
   "execution_count": 15,
   "metadata": {
    "ExecuteTime": {
     "end_time": "2018-11-10T10:30:20.907371Z",
     "start_time": "2018-11-10T10:30:20.889400Z"
    },
    "collapsed": false
   },
   "outputs": [
    {
     "data": {
      "text/html": [
       "<div>\n",
       "<style scoped>\n",
       "    .dataframe tbody tr th:only-of-type {\n",
       "        vertical-align: middle;\n",
       "    }\n",
       "\n",
       "    .dataframe tbody tr th {\n",
       "        vertical-align: top;\n",
       "    }\n",
       "\n",
       "    .dataframe thead th {\n",
       "        text-align: right;\n",
       "    }\n",
       "</style>\n",
       "<table border=\"1\" class=\"dataframe\">\n",
       "  <thead>\n",
       "    <tr style=\"text-align: right;\">\n",
       "      <th></th>\n",
       "      <th>airport</th>\n",
       "      <th>city</th>\n",
       "      <th>state</th>\n",
       "      <th>country</th>\n",
       "      <th>lat</th>\n",
       "      <th>long</th>\n",
       "    </tr>\n",
       "    <tr>\n",
       "      <th>iata</th>\n",
       "      <th></th>\n",
       "      <th></th>\n",
       "      <th></th>\n",
       "      <th></th>\n",
       "      <th></th>\n",
       "      <th></th>\n",
       "    </tr>\n",
       "  </thead>\n",
       "  <tbody>\n",
       "    <tr>\n",
       "      <th>ADK</th>\n",
       "      <td>Adak</td>\n",
       "      <td>Adak</td>\n",
       "      <td>AK</td>\n",
       "      <td>USA</td>\n",
       "      <td>51.877964</td>\n",
       "      <td>-176.646031</td>\n",
       "    </tr>\n",
       "    <tr>\n",
       "      <th>AKA</th>\n",
       "      <td>Atka</td>\n",
       "      <td>Atka</td>\n",
       "      <td>AK</td>\n",
       "      <td>USA</td>\n",
       "      <td>52.220348</td>\n",
       "      <td>-174.206350</td>\n",
       "    </tr>\n",
       "    <tr>\n",
       "      <th>GAM</th>\n",
       "      <td>Gambell</td>\n",
       "      <td>Gambell</td>\n",
       "      <td>AK</td>\n",
       "      <td>USA</td>\n",
       "      <td>63.766766</td>\n",
       "      <td>-171.732824</td>\n",
       "    </tr>\n",
       "    <tr>\n",
       "      <th>SNP</th>\n",
       "      <td>St. Paul</td>\n",
       "      <td>St. Paul</td>\n",
       "      <td>AK</td>\n",
       "      <td>USA</td>\n",
       "      <td>57.167333</td>\n",
       "      <td>-170.220444</td>\n",
       "    </tr>\n",
       "    <tr>\n",
       "      <th>SVA</th>\n",
       "      <td>Savoonga</td>\n",
       "      <td>Savoonga</td>\n",
       "      <td>AK</td>\n",
       "      <td>USA</td>\n",
       "      <td>63.686394</td>\n",
       "      <td>-170.492636</td>\n",
       "    </tr>\n",
       "  </tbody>\n",
       "</table>\n",
       "</div>"
      ],
      "text/plain": [
       "       airport      city state country        lat        long\n",
       "iata                                                         \n",
       "ADK       Adak      Adak    AK     USA  51.877964 -176.646031\n",
       "AKA       Atka      Atka    AK     USA  52.220348 -174.206350\n",
       "GAM    Gambell   Gambell    AK     USA  63.766766 -171.732824\n",
       "SNP   St. Paul  St. Paul    AK     USA  57.167333 -170.220444\n",
       "SVA   Savoonga  Savoonga    AK     USA  63.686394 -170.492636"
      ]
     },
     "execution_count": 15,
     "metadata": {},
     "output_type": "execute_result"
    }
   ],
   "source": [
    "# We can select rows based on  boolean tests on columns\n",
    "dfa[(dfa.lat > 48) & (dfa.long < -170)]"
   ]
  },
  {
   "cell_type": "markdown",
   "metadata": {},
   "source": [
    "## SPREADSHEET FUNCTIONS"
   ]
  },
  {
   "cell_type": "markdown",
   "metadata": {},
   "source": [
    "Pandas provides additional functions that can simplify data processing tasks, which often are used in spreadsheets. Of these other functions, the following code cells demonstrate three specific functions:\n",
    "\n",
    "- __sample__: randomly selects n rows, where n is specified as an argument to the sample function\n",
    "- __sort_index__: sorts the DataFrame based on the values in the index\n",
    "- __sort_values__: sorts the DataFrame by the column specified in the by attribute\n",
    "\n",
    "Note that __the sort functions return a new DataFrame__; to sort a DataFrame in place you must set the inplace attribute to True. In addition, the sort functions take an ascending parameter that specifies if the sort should be in ascending or descending order.\n"
   ]
  },
  {
   "cell_type": "code",
   "execution_count": 16,
   "metadata": {
    "ExecuteTime": {
     "end_time": "2018-11-10T10:34:56.111886Z",
     "start_time": "2018-11-10T10:34:56.095976Z"
    },
    "collapsed": false
   },
   "outputs": [
    {
     "data": {
      "text/html": [
       "<div>\n",
       "<style scoped>\n",
       "    .dataframe tbody tr th:only-of-type {\n",
       "        vertical-align: middle;\n",
       "    }\n",
       "\n",
       "    .dataframe tbody tr th {\n",
       "        vertical-align: top;\n",
       "    }\n",
       "\n",
       "    .dataframe thead th {\n",
       "        text-align: right;\n",
       "    }\n",
       "</style>\n",
       "<table border=\"1\" class=\"dataframe\">\n",
       "  <thead>\n",
       "    <tr style=\"text-align: right;\">\n",
       "      <th></th>\n",
       "      <th>airport</th>\n",
       "      <th>city</th>\n",
       "      <th>state</th>\n",
       "      <th>country</th>\n",
       "      <th>lat</th>\n",
       "      <th>long</th>\n",
       "    </tr>\n",
       "    <tr>\n",
       "      <th>iata</th>\n",
       "      <th></th>\n",
       "      <th></th>\n",
       "      <th></th>\n",
       "      <th></th>\n",
       "      <th></th>\n",
       "      <th></th>\n",
       "    </tr>\n",
       "  </thead>\n",
       "  <tbody>\n",
       "    <tr>\n",
       "      <th>9S9</th>\n",
       "      <td>Lexington</td>\n",
       "      <td>Lexington</td>\n",
       "      <td>OR</td>\n",
       "      <td>USA</td>\n",
       "      <td>45.452631</td>\n",
       "      <td>-119.688636</td>\n",
       "    </tr>\n",
       "    <tr>\n",
       "      <th>POY</th>\n",
       "      <td>Powell Muni</td>\n",
       "      <td>Powell</td>\n",
       "      <td>WY</td>\n",
       "      <td>USA</td>\n",
       "      <td>44.867972</td>\n",
       "      <td>-108.793000</td>\n",
       "    </tr>\n",
       "    <tr>\n",
       "      <th>AXS</th>\n",
       "      <td>Altus Municipal</td>\n",
       "      <td>Altus</td>\n",
       "      <td>OK</td>\n",
       "      <td>USA</td>\n",
       "      <td>34.698782</td>\n",
       "      <td>-99.338100</td>\n",
       "    </tr>\n",
       "  </tbody>\n",
       "</table>\n",
       "</div>"
      ],
      "text/plain": [
       "              airport       city state country        lat        long\n",
       "iata                                                                 \n",
       "9S9         Lexington  Lexington    OR     USA  45.452631 -119.688636\n",
       "POY       Powell Muni     Powell    WY     USA  44.867972 -108.793000\n",
       "AXS   Altus Municipal      Altus    OK     USA  34.698782  -99.338100"
      ]
     },
     "execution_count": 16,
     "metadata": {},
     "output_type": "execute_result"
    }
   ],
   "source": [
    "dfa.sample(3)"
   ]
  },
  {
   "cell_type": "code",
   "execution_count": 18,
   "metadata": {
    "ExecuteTime": {
     "end_time": "2018-11-10T10:40:52.041132Z",
     "start_time": "2018-11-10T10:40:52.024019Z"
    },
    "collapsed": false
   },
   "outputs": [
    {
     "data": {
      "text/html": [
       "<div>\n",
       "<style scoped>\n",
       "    .dataframe tbody tr th:only-of-type {\n",
       "        vertical-align: middle;\n",
       "    }\n",
       "\n",
       "    .dataframe tbody tr th {\n",
       "        vertical-align: top;\n",
       "    }\n",
       "\n",
       "    .dataframe thead th {\n",
       "        text-align: right;\n",
       "    }\n",
       "</style>\n",
       "<table border=\"1\" class=\"dataframe\">\n",
       "  <thead>\n",
       "    <tr style=\"text-align: right;\">\n",
       "      <th></th>\n",
       "      <th>airport</th>\n",
       "      <th>city</th>\n",
       "      <th>state</th>\n",
       "      <th>country</th>\n",
       "      <th>lat</th>\n",
       "      <th>long</th>\n",
       "    </tr>\n",
       "    <tr>\n",
       "      <th>iata</th>\n",
       "      <th></th>\n",
       "      <th></th>\n",
       "      <th></th>\n",
       "      <th></th>\n",
       "      <th></th>\n",
       "      <th></th>\n",
       "    </tr>\n",
       "  </thead>\n",
       "  <tbody>\n",
       "    <tr>\n",
       "      <th>00M</th>\n",
       "      <td>Thigpen</td>\n",
       "      <td>Bay Springs</td>\n",
       "      <td>MS</td>\n",
       "      <td>USA</td>\n",
       "      <td>31.953765</td>\n",
       "      <td>-89.234505</td>\n",
       "    </tr>\n",
       "    <tr>\n",
       "      <th>00R</th>\n",
       "      <td>Livingston Municipal</td>\n",
       "      <td>Livingston</td>\n",
       "      <td>TX</td>\n",
       "      <td>USA</td>\n",
       "      <td>30.685861</td>\n",
       "      <td>-95.017928</td>\n",
       "    </tr>\n",
       "    <tr>\n",
       "      <th>00V</th>\n",
       "      <td>Meadow Lake</td>\n",
       "      <td>Colorado Springs</td>\n",
       "      <td>CO</td>\n",
       "      <td>USA</td>\n",
       "      <td>38.945749</td>\n",
       "      <td>-104.569893</td>\n",
       "    </tr>\n",
       "    <tr>\n",
       "      <th>01G</th>\n",
       "      <td>Perry-Warsaw</td>\n",
       "      <td>Perry</td>\n",
       "      <td>NY</td>\n",
       "      <td>USA</td>\n",
       "      <td>42.741347</td>\n",
       "      <td>-78.052081</td>\n",
       "    </tr>\n",
       "    <tr>\n",
       "      <th>01J</th>\n",
       "      <td>Hilliard Airpark</td>\n",
       "      <td>Hilliard</td>\n",
       "      <td>FL</td>\n",
       "      <td>USA</td>\n",
       "      <td>30.688012</td>\n",
       "      <td>-81.905944</td>\n",
       "    </tr>\n",
       "  </tbody>\n",
       "</table>\n",
       "</div>"
      ],
      "text/plain": [
       "                   airport              city state country        lat  \\\n",
       "iata                                                                    \n",
       "00M               Thigpen        Bay Springs    MS     USA  31.953765   \n",
       "00R   Livingston Municipal        Livingston    TX     USA  30.685861   \n",
       "00V            Meadow Lake  Colorado Springs    CO     USA  38.945749   \n",
       "01G           Perry-Warsaw             Perry    NY     USA  42.741347   \n",
       "01J       Hilliard Airpark          Hilliard    FL     USA  30.688012   \n",
       "\n",
       "            long  \n",
       "iata              \n",
       "00M   -89.234505  \n",
       "00R   -95.017928  \n",
       "00V  -104.569893  \n",
       "01G   -78.052081  \n",
       "01J   -81.905944  "
      ]
     },
     "execution_count": 18,
     "metadata": {},
     "output_type": "execute_result"
    }
   ],
   "source": [
    "dfa.sort_index().head()"
   ]
  },
  {
   "cell_type": "code",
   "execution_count": 19,
   "metadata": {
    "ExecuteTime": {
     "end_time": "2018-11-10T10:41:06.315823Z",
     "start_time": "2018-11-10T10:41:06.299412Z"
    },
    "collapsed": false
   },
   "outputs": [
    {
     "data": {
      "text/html": [
       "<div>\n",
       "<style scoped>\n",
       "    .dataframe tbody tr th:only-of-type {\n",
       "        vertical-align: middle;\n",
       "    }\n",
       "\n",
       "    .dataframe tbody tr th {\n",
       "        vertical-align: top;\n",
       "    }\n",
       "\n",
       "    .dataframe thead th {\n",
       "        text-align: right;\n",
       "    }\n",
       "</style>\n",
       "<table border=\"1\" class=\"dataframe\">\n",
       "  <thead>\n",
       "    <tr style=\"text-align: right;\">\n",
       "      <th></th>\n",
       "      <th>airport</th>\n",
       "      <th>city</th>\n",
       "      <th>state</th>\n",
       "      <th>country</th>\n",
       "      <th>lat</th>\n",
       "      <th>long</th>\n",
       "    </tr>\n",
       "    <tr>\n",
       "      <th>iata</th>\n",
       "      <th></th>\n",
       "      <th></th>\n",
       "      <th></th>\n",
       "      <th></th>\n",
       "      <th></th>\n",
       "      <th></th>\n",
       "    </tr>\n",
       "  </thead>\n",
       "  <tbody>\n",
       "    <tr>\n",
       "      <th>00M</th>\n",
       "      <td>Thigpen</td>\n",
       "      <td>Bay Springs</td>\n",
       "      <td>MS</td>\n",
       "      <td>USA</td>\n",
       "      <td>31.953765</td>\n",
       "      <td>-89.234505</td>\n",
       "    </tr>\n",
       "    <tr>\n",
       "      <th>00R</th>\n",
       "      <td>Livingston Municipal</td>\n",
       "      <td>Livingston</td>\n",
       "      <td>TX</td>\n",
       "      <td>USA</td>\n",
       "      <td>30.685861</td>\n",
       "      <td>-95.017928</td>\n",
       "    </tr>\n",
       "    <tr>\n",
       "      <th>00V</th>\n",
       "      <td>Meadow Lake</td>\n",
       "      <td>Colorado Springs</td>\n",
       "      <td>CO</td>\n",
       "      <td>USA</td>\n",
       "      <td>38.945749</td>\n",
       "      <td>-104.569893</td>\n",
       "    </tr>\n",
       "    <tr>\n",
       "      <th>01G</th>\n",
       "      <td>Perry-Warsaw</td>\n",
       "      <td>Perry</td>\n",
       "      <td>NY</td>\n",
       "      <td>USA</td>\n",
       "      <td>42.741347</td>\n",
       "      <td>-78.052081</td>\n",
       "    </tr>\n",
       "    <tr>\n",
       "      <th>01J</th>\n",
       "      <td>Hilliard Airpark</td>\n",
       "      <td>Hilliard</td>\n",
       "      <td>FL</td>\n",
       "      <td>USA</td>\n",
       "      <td>30.688012</td>\n",
       "      <td>-81.905944</td>\n",
       "    </tr>\n",
       "  </tbody>\n",
       "</table>\n",
       "</div>"
      ],
      "text/plain": [
       "                   airport              city state country        lat  \\\n",
       "iata                                                                    \n",
       "00M               Thigpen        Bay Springs    MS     USA  31.953765   \n",
       "00R   Livingston Municipal        Livingston    TX     USA  30.685861   \n",
       "00V            Meadow Lake  Colorado Springs    CO     USA  38.945749   \n",
       "01G           Perry-Warsaw             Perry    NY     USA  42.741347   \n",
       "01J       Hilliard Airpark          Hilliard    FL     USA  30.688012   \n",
       "\n",
       "            long  \n",
       "iata              \n",
       "00M   -89.234505  \n",
       "00R   -95.017928  \n",
       "00V  -104.569893  \n",
       "01G   -78.052081  \n",
       "01J   -81.905944  "
      ]
     },
     "execution_count": 19,
     "metadata": {},
     "output_type": "execute_result"
    }
   ],
   "source": [
    "dfa.head()"
   ]
  },
  {
   "cell_type": "code",
   "execution_count": 26,
   "metadata": {
    "ExecuteTime": {
     "end_time": "2018-11-10T10:44:25.826539Z",
     "start_time": "2018-11-10T10:44:25.811574Z"
    },
    "collapsed": false
   },
   "outputs": [
    {
     "data": {
      "text/html": [
       "<div>\n",
       "<style scoped>\n",
       "    .dataframe tbody tr th:only-of-type {\n",
       "        vertical-align: middle;\n",
       "    }\n",
       "\n",
       "    .dataframe tbody tr th {\n",
       "        vertical-align: top;\n",
       "    }\n",
       "\n",
       "    .dataframe thead th {\n",
       "        text-align: right;\n",
       "    }\n",
       "</style>\n",
       "<table border=\"1\" class=\"dataframe\">\n",
       "  <thead>\n",
       "    <tr style=\"text-align: right;\">\n",
       "      <th></th>\n",
       "      <th>airport</th>\n",
       "      <th>city</th>\n",
       "      <th>state</th>\n",
       "      <th>country</th>\n",
       "      <th>lat</th>\n",
       "      <th>long</th>\n",
       "    </tr>\n",
       "    <tr>\n",
       "      <th>iata</th>\n",
       "      <th></th>\n",
       "      <th></th>\n",
       "      <th></th>\n",
       "      <th></th>\n",
       "      <th></th>\n",
       "      <th></th>\n",
       "    </tr>\n",
       "  </thead>\n",
       "  <tbody>\n",
       "    <tr>\n",
       "      <th>CYS</th>\n",
       "      <td>Cheyenne</td>\n",
       "      <td>Cheyenne</td>\n",
       "      <td>WY</td>\n",
       "      <td>USA</td>\n",
       "      <td>41.155722</td>\n",
       "      <td>-104.811838</td>\n",
       "    </tr>\n",
       "    <tr>\n",
       "      <th>AFO</th>\n",
       "      <td>Afton Municipal</td>\n",
       "      <td>Afton</td>\n",
       "      <td>WY</td>\n",
       "      <td>USA</td>\n",
       "      <td>42.711246</td>\n",
       "      <td>-110.942164</td>\n",
       "    </tr>\n",
       "    <tr>\n",
       "      <th>LSK</th>\n",
       "      <td>Lusk Muni</td>\n",
       "      <td>Lusk</td>\n",
       "      <td>WY</td>\n",
       "      <td>USA</td>\n",
       "      <td>42.753808</td>\n",
       "      <td>-104.404554</td>\n",
       "    </tr>\n",
       "    <tr>\n",
       "      <th>PNA</th>\n",
       "      <td>Ralph Wenz</td>\n",
       "      <td>Pinedale</td>\n",
       "      <td>WY</td>\n",
       "      <td>USA</td>\n",
       "      <td>42.795499</td>\n",
       "      <td>-109.807094</td>\n",
       "    </tr>\n",
       "    <tr>\n",
       "      <th>WRL</th>\n",
       "      <td>Worland Muni</td>\n",
       "      <td>Worland</td>\n",
       "      <td>WY</td>\n",
       "      <td>USA</td>\n",
       "      <td>43.965713</td>\n",
       "      <td>-107.950831</td>\n",
       "    </tr>\n",
       "  </tbody>\n",
       "</table>\n",
       "</div>"
      ],
      "text/plain": [
       "              airport      city state country        lat        long\n",
       "iata                                                                \n",
       "CYS          Cheyenne  Cheyenne    WY     USA  41.155722 -104.811838\n",
       "AFO   Afton Municipal     Afton    WY     USA  42.711246 -110.942164\n",
       "LSK         Lusk Muni      Lusk    WY     USA  42.753808 -104.404554\n",
       "PNA       Ralph Wenz   Pinedale    WY     USA  42.795499 -109.807094\n",
       "WRL      Worland Muni   Worland    WY     USA  43.965713 -107.950831"
      ]
     },
     "execution_count": 26,
     "metadata": {},
     "output_type": "execute_result"
    }
   ],
   "source": [
    "dfa.sort_values('state',ascending=False).head()"
   ]
  },
  {
   "cell_type": "code",
   "execution_count": 27,
   "metadata": {
    "ExecuteTime": {
     "end_time": "2018-11-10T10:44:26.713036Z",
     "start_time": "2018-11-10T10:44:26.699903Z"
    },
    "collapsed": false
   },
   "outputs": [
    {
     "data": {
      "text/html": [
       "<div>\n",
       "<style scoped>\n",
       "    .dataframe tbody tr th:only-of-type {\n",
       "        vertical-align: middle;\n",
       "    }\n",
       "\n",
       "    .dataframe tbody tr th {\n",
       "        vertical-align: top;\n",
       "    }\n",
       "\n",
       "    .dataframe thead th {\n",
       "        text-align: right;\n",
       "    }\n",
       "</style>\n",
       "<table border=\"1\" class=\"dataframe\">\n",
       "  <thead>\n",
       "    <tr style=\"text-align: right;\">\n",
       "      <th></th>\n",
       "      <th>airport</th>\n",
       "      <th>city</th>\n",
       "      <th>state</th>\n",
       "      <th>country</th>\n",
       "      <th>lat</th>\n",
       "      <th>long</th>\n",
       "    </tr>\n",
       "    <tr>\n",
       "      <th>iata</th>\n",
       "      <th></th>\n",
       "      <th></th>\n",
       "      <th></th>\n",
       "      <th></th>\n",
       "      <th></th>\n",
       "      <th></th>\n",
       "    </tr>\n",
       "  </thead>\n",
       "  <tbody>\n",
       "    <tr>\n",
       "      <th>CYS</th>\n",
       "      <td>Cheyenne</td>\n",
       "      <td>Cheyenne</td>\n",
       "      <td>WY</td>\n",
       "      <td>USA</td>\n",
       "      <td>41.155722</td>\n",
       "      <td>-104.811838</td>\n",
       "    </tr>\n",
       "    <tr>\n",
       "      <th>LSK</th>\n",
       "      <td>Lusk Muni</td>\n",
       "      <td>Lusk</td>\n",
       "      <td>WY</td>\n",
       "      <td>USA</td>\n",
       "      <td>42.753808</td>\n",
       "      <td>-104.404554</td>\n",
       "    </tr>\n",
       "    <tr>\n",
       "      <th>EVW</th>\n",
       "      <td>Evanston-Uinta County Burns</td>\n",
       "      <td>Evanston</td>\n",
       "      <td>WY</td>\n",
       "      <td>USA</td>\n",
       "      <td>41.274945</td>\n",
       "      <td>-111.032129</td>\n",
       "    </tr>\n",
       "    <tr>\n",
       "      <th>BYG</th>\n",
       "      <td>Johnson County</td>\n",
       "      <td>Buffalo</td>\n",
       "      <td>WY</td>\n",
       "      <td>USA</td>\n",
       "      <td>44.381085</td>\n",
       "      <td>-106.721790</td>\n",
       "    </tr>\n",
       "    <tr>\n",
       "      <th>RIW</th>\n",
       "      <td>Riverton Regional</td>\n",
       "      <td>Riverton</td>\n",
       "      <td>WY</td>\n",
       "      <td>USA</td>\n",
       "      <td>43.064235</td>\n",
       "      <td>-108.459841</td>\n",
       "    </tr>\n",
       "  </tbody>\n",
       "</table>\n",
       "</div>"
      ],
      "text/plain": [
       "                           airport      city state country        lat  \\\n",
       "iata                                                                    \n",
       "CYS                       Cheyenne  Cheyenne    WY     USA  41.155722   \n",
       "LSK                      Lusk Muni      Lusk    WY     USA  42.753808   \n",
       "EVW   Evanston-Uinta County Burns   Evanston    WY     USA  41.274945   \n",
       "BYG                 Johnson County   Buffalo    WY     USA  44.381085   \n",
       "RIW              Riverton Regional  Riverton    WY     USA  43.064235   \n",
       "\n",
       "            long  \n",
       "iata              \n",
       "CYS  -104.811838  \n",
       "LSK  -104.404554  \n",
       "EVW  -111.032129  \n",
       "BYG  -106.721790  \n",
       "RIW  -108.459841  "
      ]
     },
     "execution_count": 27,
     "metadata": {},
     "output_type": "execute_result"
    }
   ],
   "source": [
    "dfa.head()"
   ]
  },
  {
   "cell_type": "code",
   "execution_count": 29,
   "metadata": {
    "ExecuteTime": {
     "end_time": "2018-11-10T10:45:09.058507Z",
     "start_time": "2018-11-10T10:45:09.054984Z"
    },
    "collapsed": false
   },
   "outputs": [],
   "source": [
    "dfa.sort_index(inplace=True)"
   ]
  },
  {
   "cell_type": "code",
   "execution_count": 30,
   "metadata": {
    "ExecuteTime": {
     "end_time": "2018-11-10T10:45:19.981413Z",
     "start_time": "2018-11-10T10:45:19.968437Z"
    },
    "collapsed": false
   },
   "outputs": [
    {
     "data": {
      "text/html": [
       "<div>\n",
       "<style scoped>\n",
       "    .dataframe tbody tr th:only-of-type {\n",
       "        vertical-align: middle;\n",
       "    }\n",
       "\n",
       "    .dataframe tbody tr th {\n",
       "        vertical-align: top;\n",
       "    }\n",
       "\n",
       "    .dataframe thead th {\n",
       "        text-align: right;\n",
       "    }\n",
       "</style>\n",
       "<table border=\"1\" class=\"dataframe\">\n",
       "  <thead>\n",
       "    <tr style=\"text-align: right;\">\n",
       "      <th></th>\n",
       "      <th>airport</th>\n",
       "      <th>city</th>\n",
       "      <th>state</th>\n",
       "      <th>country</th>\n",
       "      <th>lat</th>\n",
       "      <th>long</th>\n",
       "    </tr>\n",
       "    <tr>\n",
       "      <th>iata</th>\n",
       "      <th></th>\n",
       "      <th></th>\n",
       "      <th></th>\n",
       "      <th></th>\n",
       "      <th></th>\n",
       "      <th></th>\n",
       "    </tr>\n",
       "  </thead>\n",
       "  <tbody>\n",
       "    <tr>\n",
       "      <th>00M</th>\n",
       "      <td>Thigpen</td>\n",
       "      <td>Bay Springs</td>\n",
       "      <td>MS</td>\n",
       "      <td>USA</td>\n",
       "      <td>31.953765</td>\n",
       "      <td>-89.234505</td>\n",
       "    </tr>\n",
       "    <tr>\n",
       "      <th>00R</th>\n",
       "      <td>Livingston Municipal</td>\n",
       "      <td>Livingston</td>\n",
       "      <td>TX</td>\n",
       "      <td>USA</td>\n",
       "      <td>30.685861</td>\n",
       "      <td>-95.017928</td>\n",
       "    </tr>\n",
       "    <tr>\n",
       "      <th>00V</th>\n",
       "      <td>Meadow Lake</td>\n",
       "      <td>Colorado Springs</td>\n",
       "      <td>CO</td>\n",
       "      <td>USA</td>\n",
       "      <td>38.945749</td>\n",
       "      <td>-104.569893</td>\n",
       "    </tr>\n",
       "    <tr>\n",
       "      <th>01G</th>\n",
       "      <td>Perry-Warsaw</td>\n",
       "      <td>Perry</td>\n",
       "      <td>NY</td>\n",
       "      <td>USA</td>\n",
       "      <td>42.741347</td>\n",
       "      <td>-78.052081</td>\n",
       "    </tr>\n",
       "    <tr>\n",
       "      <th>01J</th>\n",
       "      <td>Hilliard Airpark</td>\n",
       "      <td>Hilliard</td>\n",
       "      <td>FL</td>\n",
       "      <td>USA</td>\n",
       "      <td>30.688012</td>\n",
       "      <td>-81.905944</td>\n",
       "    </tr>\n",
       "  </tbody>\n",
       "</table>\n",
       "</div>"
      ],
      "text/plain": [
       "                   airport              city state country        lat  \\\n",
       "iata                                                                    \n",
       "00M               Thigpen        Bay Springs    MS     USA  31.953765   \n",
       "00R   Livingston Municipal        Livingston    TX     USA  30.685861   \n",
       "00V            Meadow Lake  Colorado Springs    CO     USA  38.945749   \n",
       "01G           Perry-Warsaw             Perry    NY     USA  42.741347   \n",
       "01J       Hilliard Airpark          Hilliard    FL     USA  30.688012   \n",
       "\n",
       "            long  \n",
       "iata              \n",
       "00M   -89.234505  \n",
       "00R   -95.017928  \n",
       "00V  -104.569893  \n",
       "01G   -78.052081  \n",
       "01J   -81.905944  "
      ]
     },
     "execution_count": 30,
     "metadata": {},
     "output_type": "execute_result"
    }
   ],
   "source": [
    "dfa.head()"
   ]
  },
  {
   "cell_type": "markdown",
   "metadata": {},
   "source": [
    "#######################################"
   ]
  },
  {
   "cell_type": "markdown",
   "metadata": {},
   "source": [
    "Q.  first extract all airports in the state of California. Second, apply a mask to select only those rows with a latitude between `38` and `40`. Finally, compute and display the average and standard deviation of the longitude for these masked rows."
   ]
  },
  {
   "cell_type": "code",
   "execution_count": 33,
   "metadata": {
    "ExecuteTime": {
     "end_time": "2018-11-10T10:51:23.966915Z",
     "start_time": "2018-11-10T10:51:23.945526Z"
    },
    "collapsed": false
   },
   "outputs": [
    {
     "data": {
      "text/html": [
       "<div>\n",
       "<style scoped>\n",
       "    .dataframe tbody tr th:only-of-type {\n",
       "        vertical-align: middle;\n",
       "    }\n",
       "\n",
       "    .dataframe tbody tr th {\n",
       "        vertical-align: top;\n",
       "    }\n",
       "\n",
       "    .dataframe thead th {\n",
       "        text-align: right;\n",
       "    }\n",
       "</style>\n",
       "<table border=\"1\" class=\"dataframe\">\n",
       "  <thead>\n",
       "    <tr style=\"text-align: right;\">\n",
       "      <th></th>\n",
       "      <th>airport</th>\n",
       "      <th>city</th>\n",
       "      <th>state</th>\n",
       "      <th>country</th>\n",
       "      <th>lat</th>\n",
       "      <th>long</th>\n",
       "    </tr>\n",
       "    <tr>\n",
       "      <th>iata</th>\n",
       "      <th></th>\n",
       "      <th></th>\n",
       "      <th></th>\n",
       "      <th></th>\n",
       "      <th></th>\n",
       "      <th></th>\n",
       "    </tr>\n",
       "  </thead>\n",
       "  <tbody>\n",
       "    <tr>\n",
       "      <th>0O3</th>\n",
       "      <td>Calaveras Co-Maury Rasmussen</td>\n",
       "      <td>San Andreas</td>\n",
       "      <td>CA</td>\n",
       "      <td>USA</td>\n",
       "      <td>38.146116</td>\n",
       "      <td>-120.648173</td>\n",
       "    </tr>\n",
       "    <tr>\n",
       "      <th>0O4</th>\n",
       "      <td>Corning Municipal</td>\n",
       "      <td>Corning</td>\n",
       "      <td>CA</td>\n",
       "      <td>USA</td>\n",
       "      <td>39.943768</td>\n",
       "      <td>-122.171378</td>\n",
       "    </tr>\n",
       "  </tbody>\n",
       "</table>\n",
       "</div>"
      ],
      "text/plain": [
       "                            airport         city state country        lat  \\\n",
       "iata                                                                        \n",
       "0O3   Calaveras Co-Maury Rasmussen   San Andreas    CA     USA  38.146116   \n",
       "0O4               Corning Municipal      Corning    CA     USA  39.943768   \n",
       "\n",
       "            long  \n",
       "iata              \n",
       "0O3  -120.648173  \n",
       "0O4  -122.171378  "
      ]
     },
     "execution_count": 33,
     "metadata": {},
     "output_type": "execute_result"
    }
   ],
   "source": [
    "dfca=dfa[(dfa.state == 'CA') & ((dfa.lat > 38) & (dfa.lat <40))]\n",
    "dfca.head(2)"
   ]
  },
  {
   "cell_type": "code",
   "execution_count": 36,
   "metadata": {
    "ExecuteTime": {
     "end_time": "2018-11-10T10:53:58.284754Z",
     "start_time": "2018-11-10T10:53:58.276932Z"
    },
    "collapsed": false
   },
   "outputs": [
    {
     "name": "stdout",
     "output_type": "stream",
     "text": [
      "The Average of the longitude is -121.7127\n",
      "The standard deviation of the longitude is 0.9616\n"
     ]
    }
   ],
   "source": [
    "avg = np.average(dfca.long)\n",
    "sd = np.std(dfca.long)\n",
    "print(\"The Average of the longitude is {:6.4f}\".format(avg))\n",
    "print(\"The standard deviation of the longitude is {:6.4f}\".format(sd))"
   ]
  },
  {
   "cell_type": "code",
   "execution_count": null,
   "metadata": {
    "collapsed": true
   },
   "outputs": [],
   "source": []
  }
 ],
 "metadata": {
  "kernelspec": {
   "display_name": "Python 3",
   "language": "python",
   "name": "python3"
  },
  "language_info": {
   "codemirror_mode": {
    "name": "ipython",
    "version": 3
   },
   "file_extension": ".py",
   "mimetype": "text/x-python",
   "name": "python",
   "nbconvert_exporter": "python",
   "pygments_lexer": "ipython3",
   "version": "3.6.6"
  },
  "varInspector": {
   "cols": {
    "lenName": 16,
    "lenType": 16,
    "lenVar": 40
   },
   "kernels_config": {
    "python": {
     "delete_cmd_postfix": "",
     "delete_cmd_prefix": "del ",
     "library": "var_list.py",
     "varRefreshCmd": "print(var_dic_list())"
    },
    "r": {
     "delete_cmd_postfix": ") ",
     "delete_cmd_prefix": "rm(",
     "library": "var_list.r",
     "varRefreshCmd": "cat(var_dic_list()) "
    }
   },
   "types_to_exclude": [
    "module",
    "function",
    "builtin_function_or_method",
    "instance",
    "_Feature"
   ],
   "window_display": false
  }
 },
 "nbformat": 4,
 "nbformat_minor": 2
}
