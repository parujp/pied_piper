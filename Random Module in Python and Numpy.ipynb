{
 "cells": [
  {
   "cell_type": "markdown",
   "metadata": {},
   "source": [
    "# Random Module in Python"
   ]
  },
  {
   "cell_type": "markdown",
   "metadata": {},
   "source": [
    "Python uses Mersenne Twister algorithm, a pseudo-random generator (PRNG) to generate pseudo-random numbers.\n",
    "Studies reveal that PRNGs are suitable for applications such as simulation and modeling but not recommended for cryptographic purposes"
   ]
  },
  {
   "cell_type": "markdown",
   "metadata": {},
   "source": [
    "- __1. randint(a,b)__\n",
    "- Get a random integer from numbers between a+1 till b (inclusive)"
   ]
  },
  {
   "cell_type": "code",
   "execution_count": 4,
   "metadata": {
    "ExecuteTime": {
     "end_time": "2018-09-25T14:16:39.410436Z",
     "start_time": "2018-09-25T14:16:39.401562Z"
    },
    "collapsed": false
   },
   "outputs": [
    {
     "name": "stdout",
     "output_type": "stream",
     "text": [
      "3\n"
     ]
    }
   ],
   "source": [
    "import random\n",
    "print(random.randint(0,5))"
   ]
  },
  {
   "cell_type": "markdown",
   "metadata": {},
   "source": [
    "- __2. random()__\n",
    "- gives a very small float number "
   ]
  },
  {
   "cell_type": "code",
   "execution_count": 5,
   "metadata": {
    "ExecuteTime": {
     "end_time": "2018-09-25T14:16:40.824689Z",
     "start_time": "2018-09-25T14:16:40.816236Z"
    },
    "collapsed": false
   },
   "outputs": [
    {
     "name": "stdout",
     "output_type": "stream",
     "text": [
      "0.09594886746692055\n"
     ]
    }
   ],
   "source": [
    "print(random.random()) "
   ]
  },
  {
   "cell_type": "code",
   "execution_count": 6,
   "metadata": {
    "ExecuteTime": {
     "end_time": "2018-09-25T14:16:41.953472Z",
     "start_time": "2018-09-25T14:16:41.944030Z"
    },
    "collapsed": false
   },
   "outputs": [
    {
     "name": "stdout",
     "output_type": "stream",
     "text": [
      "99.61076830469004\n"
     ]
    }
   ],
   "source": [
    "print(random.random()*100) "
   ]
  },
  {
   "cell_type": "markdown",
   "metadata": {},
   "source": [
    "- __3. choice(LIST)__\n",
    "- choose random element from sequence"
   ]
  },
  {
   "cell_type": "code",
   "execution_count": 10,
   "metadata": {
    "ExecuteTime": {
     "end_time": "2018-09-25T14:18:47.075132Z",
     "start_time": "2018-09-25T14:18:47.069789Z"
    },
    "collapsed": false
   },
   "outputs": [
    {
     "name": "stdout",
     "output_type": "stream",
     "text": [
      "2\n"
     ]
    }
   ],
   "source": [
    "print(random.choice([101,3,2,34,56,65,32]))"
   ]
  },
  {
   "cell_type": "markdown",
   "metadata": {
    "ExecuteTime": {
     "end_time": "2018-09-25T14:19:58.337299Z",
     "start_time": "2018-09-25T14:19:58.330559Z"
    }
   },
   "source": [
    "- __4. shuffle(sequence)__\n",
    "- shufflesthe element of the sequence ,in-place in a random order"
   ]
  },
  {
   "cell_type": "code",
   "execution_count": 24,
   "metadata": {
    "ExecuteTime": {
     "end_time": "2018-09-25T14:23:06.629966Z",
     "start_time": "2018-09-25T14:23:06.623297Z"
    },
    "collapsed": false
   },
   "outputs": [
    {
     "data": {
      "text/plain": [
       "['p', 'u', 'r', 'a']"
      ]
     },
     "execution_count": 24,
     "metadata": {},
     "output_type": "execute_result"
    }
   ],
   "source": [
    "a=['p','a','r','u']\n",
    "random.shuffle(a)\n",
    "a"
   ]
  },
  {
   "cell_type": "markdown",
   "metadata": {},
   "source": [
    "- __5. randrange(start,stop,step)__\n",
    "- generate a randomly selected element from the given range"
   ]
  },
  {
   "cell_type": "code",
   "execution_count": 25,
   "metadata": {
    "ExecuteTime": {
     "end_time": "2018-09-25T14:25:33.919351Z",
     "start_time": "2018-09-25T14:25:33.913181Z"
    },
    "collapsed": false
   },
   "outputs": [
    {
     "data": {
      "text/plain": [
       "40"
      ]
     },
     "execution_count": 25,
     "metadata": {},
     "output_type": "execute_result"
    }
   ],
   "source": [
    "x = random.randrange(2,50,2)\n",
    "x"
   ]
  },
  {
   "cell_type": "code",
   "execution_count": 34,
   "metadata": {
    "ExecuteTime": {
     "end_time": "2018-09-25T14:42:01.740730Z",
     "start_time": "2018-09-25T14:42:01.733339Z"
    },
    "collapsed": false
   },
   "outputs": [
    {
     "name": "stdout",
     "output_type": "stream",
     "text": [
      "25\n",
      "27\n",
      "33\n",
      "27\n",
      "34\n",
      "36\n",
      "42\n",
      "28\n",
      "31\n",
      "45\n"
     ]
    }
   ],
   "source": [
    "for i in range(10):\n",
    "    print(random.randrange(23,47))"
   ]
  },
  {
   "cell_type": "markdown",
   "metadata": {},
   "source": [
    "- __6.sample(collection, random_list_length)__\n",
    "- The sample() function randomly selects N items from a given collection (list, tuple, string, dictionary, set) and returns them as a list.\n",
    "- It works by sampling the items without replacement. It means a single element from the sequence can appear in the resultant list at most once."
   ]
  },
  {
   "cell_type": "code",
   "execution_count": 35,
   "metadata": {
    "ExecuteTime": {
     "end_time": "2018-09-25T14:45:07.572466Z",
     "start_time": "2018-09-25T14:45:07.566329Z"
    },
    "collapsed": false
   },
   "outputs": [
    {
     "name": "stdout",
     "output_type": "stream",
     "text": [
      "['v', 'h', 'a', 'p']\n"
     ]
    }
   ],
   "source": [
    "print(random.sample('parvathy', 4))"
   ]
  },
  {
   "cell_type": "markdown",
   "metadata": {},
   "source": [
    "- __7. uniform() __\n",
    "- It is an extension of the random() function. In this, you can specify the lower and upper bounds to generate a random number other than the ones between 0 and 1."
   ]
  },
  {
   "cell_type": "code",
   "execution_count": 36,
   "metadata": {
    "ExecuteTime": {
     "end_time": "2018-09-25T14:58:09.774365Z",
     "start_time": "2018-09-25T14:58:09.769041Z"
    },
    "collapsed": false
   },
   "outputs": [
    {
     "name": "stdout",
     "output_type": "stream",
     "text": [
      "64.72985983432774\n"
     ]
    }
   ],
   "source": [
    "print(random.uniform(23,67))"
   ]
  },
  {
   "cell_type": "markdown",
   "metadata": {},
   "source": [
    "### Example\n",
    "There are only two outcomes allowed, so rather than use numbers and convert them,\n",
    "the words “heads” and “tails” are used with choice(). \n",
    "\n",
    "The results are tabulated in a dictionary using the outcome names as keys."
   ]
  },
  {
   "cell_type": "code",
   "execution_count": 31,
   "metadata": {
    "ExecuteTime": {
     "end_time": "2018-09-25T14:34:58.296905Z",
     "start_time": "2018-09-25T14:34:58.274040Z"
    },
    "collapsed": false
   },
   "outputs": [
    {
     "name": "stdout",
     "output_type": "stream",
     "text": [
      "Heads : 4971\n",
      "Tails : 5029\n"
     ]
    }
   ],
   "source": [
    "import random\n",
    "\n",
    "outcomes = {'heads':0, \n",
    "            'tails':0,\n",
    "           }\n",
    "\n",
    "sides = list(outcomes.keys())\n",
    "\n",
    "for i in range(10000):\n",
    "    outcomes[random.choice(sides)]+=1\n",
    "    \n",
    "print('Heads :', outcomes['heads'])\n",
    "print('Tails :', outcomes['tails'])"
   ]
  },
  {
   "cell_type": "markdown",
   "metadata": {},
   "source": [
    "### Advanced distributions"
   ]
  },
  {
   "cell_type": "markdown",
   "metadata": {
    "ExecuteTime": {
     "end_time": "2018-09-25T15:01:07.458763Z",
     "start_time": "2018-09-25T15:01:07.453186Z"
    }
   },
   "source": [
    "<img src=\"f2.png\">"
   ]
  },
  {
   "cell_type": "markdown",
   "metadata": {
    "collapsed": true
   },
   "source": [
    "# Random Sampling in Numpy"
   ]
  },
  {
   "cell_type": "markdown",
   "metadata": {},
   "source": [
    "https://docs.scipy.org/doc/numpy-1.14.0/reference/generated/numpy.random.rand.html#numpy.random.rand"
   ]
  },
  {
   "cell_type": "code",
   "execution_count": 1,
   "metadata": {
    "ExecuteTime": {
     "end_time": "2018-10-11T22:38:06.924389Z",
     "start_time": "2018-10-11T22:38:06.920753Z"
    },
    "collapsed": true
   },
   "outputs": [],
   "source": [
    "import numpy as np"
   ]
  },
  {
   "cell_type": "markdown",
   "metadata": {},
   "source": [
    "#### np.random.rand\n",
    "- Create an array of the given shape and populate it with random samples from a uniform distribution over [0, 1)"
   ]
  },
  {
   "cell_type": "code",
   "execution_count": 2,
   "metadata": {
    "ExecuteTime": {
     "end_time": "2018-10-11T22:38:18.573480Z",
     "start_time": "2018-10-11T22:38:18.559010Z"
    },
    "collapsed": false
   },
   "outputs": [
    {
     "data": {
      "text/plain": [
       "0.1434924924932539"
      ]
     },
     "execution_count": 2,
     "metadata": {},
     "output_type": "execute_result"
    }
   ],
   "source": [
    "np.random.rand()"
   ]
  },
  {
   "cell_type": "code",
   "execution_count": 3,
   "metadata": {
    "ExecuteTime": {
     "end_time": "2018-10-11T22:38:43.291036Z",
     "start_time": "2018-10-11T22:38:43.284593Z"
    },
    "collapsed": false
   },
   "outputs": [
    {
     "data": {
      "text/plain": [
       "array([[0.57474201, 0.17582812, 0.90606352, 0.61667389, 0.72403494],\n",
       "       [0.27651549, 0.08399775, 0.4104976 , 0.46491292, 0.45315696]])"
      ]
     },
     "execution_count": 3,
     "metadata": {},
     "output_type": "execute_result"
    }
   ],
   "source": [
    "np.random.rand(2,5)"
   ]
  },
  {
   "cell_type": "code",
   "execution_count": 4,
   "metadata": {
    "ExecuteTime": {
     "end_time": "2018-10-11T22:39:32.871314Z",
     "start_time": "2018-10-11T22:39:32.863846Z"
    },
    "collapsed": false
   },
   "outputs": [
    {
     "data": {
      "text/plain": [
       "array([[[0.73103142, 0.27078408, 0.7960099 , 0.43647278, 0.70725853],\n",
       "        [0.31204273, 0.49352264, 0.31245044, 0.79760162, 0.99439608]],\n",
       "\n",
       "       [[0.49323401, 0.99065723, 0.51711174, 0.75530436, 0.3904735 ],\n",
       "        [0.44012854, 0.30355245, 0.49987322, 0.913018  , 0.23161183]]])"
      ]
     },
     "execution_count": 4,
     "metadata": {},
     "output_type": "execute_result"
    }
   ],
   "source": [
    "np.random.rand(2,2,5)"
   ]
  },
  {
   "cell_type": "code",
   "execution_count": 7,
   "metadata": {
    "ExecuteTime": {
     "end_time": "2018-10-11T22:42:45.209751Z",
     "start_time": "2018-10-11T22:42:45.203633Z"
    },
    "collapsed": false
   },
   "outputs": [
    {
     "data": {
      "text/plain": [
       "array([[[[0.21833357],\n",
       "         [0.41992971],\n",
       "         [0.44813068],\n",
       "         [0.59856707],\n",
       "         [0.55322594]],\n",
       "\n",
       "        [[0.36244556],\n",
       "         [0.04190595],\n",
       "         [0.67302156],\n",
       "         [0.19682962],\n",
       "         [0.20783529]]],\n",
       "\n",
       "\n",
       "       [[[0.90871874],\n",
       "         [0.04295153],\n",
       "         [0.00270766],\n",
       "         [0.66639798],\n",
       "         [0.76062798]],\n",
       "\n",
       "        [[0.19639427],\n",
       "         [0.48500801],\n",
       "         [0.16409439],\n",
       "         [0.75174112],\n",
       "         [0.7691794 ]]]])"
      ]
     },
     "execution_count": 7,
     "metadata": {},
     "output_type": "execute_result"
    }
   ],
   "source": [
    "np.random.rand(2,2,5,1)"
   ]
  },
  {
   "cell_type": "markdown",
   "metadata": {},
   "source": [
    "#### np.random.randn\n",
    "\n",
    "- Return a sample (or samples) from the “standard normal” distribution.\n",
    "\n",
    "If positive, int_like or int-convertible arguments are provided, randn generates an array of shape (d0, d1, ..., dn), filled with random floats sampled from a univariate “normal” (Gaussian) distribution of mean 0 and variance 1 (if any of the d_i are floats, they are first converted to integers by truncation). A single float randomly sampled from the distribution is returned if no argument is provided.\n",
    "\n",
    "- For random samples from N(mu, sigma^2), use:\n",
    "\n",
    "sigma * np.random.randn(...) + mu"
   ]
  },
  {
   "cell_type": "code",
   "execution_count": 8,
   "metadata": {
    "ExecuteTime": {
     "end_time": "2018-10-11T23:10:58.463511Z",
     "start_time": "2018-10-11T23:10:58.458322Z"
    },
    "collapsed": false
   },
   "outputs": [
    {
     "data": {
      "text/plain": [
       "-1.5154298237774726"
      ]
     },
     "execution_count": 8,
     "metadata": {},
     "output_type": "execute_result"
    }
   ],
   "source": [
    "np.random.randn()"
   ]
  },
  {
   "cell_type": "code",
   "execution_count": 10,
   "metadata": {
    "ExecuteTime": {
     "end_time": "2018-10-11T23:12:03.223525Z",
     "start_time": "2018-10-11T23:12:03.215912Z"
    },
    "collapsed": false
   },
   "outputs": [
    {
     "data": {
      "text/plain": [
       "array([[ 1.90314441,  7.56308471,  5.60256818,  2.26803762],\n",
       "       [ 3.09555513,  2.40023548, -0.36124694, -0.19131126]])"
      ]
     },
     "execution_count": 10,
     "metadata": {},
     "output_type": "execute_result"
    }
   ],
   "source": [
    "# Two-by-four array of samples from N(3, 6.25):\n",
    "2.5 * np.random.randn(2,4)+ 3"
   ]
  },
  {
   "cell_type": "code",
   "execution_count": null,
   "metadata": {
    "collapsed": true
   },
   "outputs": [],
   "source": []
  }
 ],
 "metadata": {
  "kernelspec": {
   "display_name": "Python 3",
   "language": "python",
   "name": "python3"
  },
  "language_info": {
   "codemirror_mode": {
    "name": "ipython",
    "version": 3
   },
   "file_extension": ".py",
   "mimetype": "text/x-python",
   "name": "python",
   "nbconvert_exporter": "python",
   "pygments_lexer": "ipython3",
   "version": "3.6.6"
  },
  "varInspector": {
   "cols": {
    "lenName": 16,
    "lenType": 16,
    "lenVar": 40
   },
   "kernels_config": {
    "python": {
     "delete_cmd_postfix": "",
     "delete_cmd_prefix": "del ",
     "library": "var_list.py",
     "varRefreshCmd": "print(var_dic_list())"
    },
    "r": {
     "delete_cmd_postfix": ") ",
     "delete_cmd_prefix": "rm(",
     "library": "var_list.r",
     "varRefreshCmd": "cat(var_dic_list()) "
    }
   },
   "types_to_exclude": [
    "module",
    "function",
    "builtin_function_or_method",
    "instance",
    "_Feature"
   ],
   "window_display": false
  }
 },
 "nbformat": 4,
 "nbformat_minor": 2
}
